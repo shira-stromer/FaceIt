{
 "cells": [
  {
   "cell_type": "code",
   "execution_count": 1,
   "metadata": {},
   "outputs": [],
   "source": [
    "import torch\n",
    "from sklearn.cluster import KMeans\n",
    "import kmeans_embedding\n",
    "from sklearn.decomposition import PCA\n",
    "from utilities import create_directory\n",
    "import os\n",
    "import faces_dataset\n",
    "import importlib\n",
    "importlib.reload(faces_dataset)\n",
    "importlib.reload(kmeans_embedding)\n",
    "from faces_dataset import EmbeddingFacesDataSet\n",
    "import shutil\n",
    "from torch.utils.data import DataLoader"
   ]
  },
  {
   "cell_type": "code",
   "execution_count": 2,
   "metadata": {},
   "outputs": [],
   "source": [
    "dataset = EmbeddingFacesDataSet()\n",
    "images_embeddings, labels = dataset.get_all()"
   ]
  },
  {
   "cell_type": "code",
   "execution_count": 83,
   "metadata": {},
   "outputs": [
    {
     "name": "stderr",
     "output_type": "stream",
     "text": [
      "/Users/shirabroner/DataScience/venv/Default/lib/python3.9/site-packages/sklearn/cluster/_kmeans.py:1416: FutureWarning: The default value of `n_init` will change from 10 to 'auto' in 1.4. Set the value of `n_init` explicitly to suppress the warning\n",
      "  super()._check_params_vs_input(X, default_n_init=10)\n"
     ]
    }
   ],
   "source": [
    "fit_kmeans = kmeans_embedding.fit_on_data(images_embeddings)"
   ]
  },
  {
   "cell_type": "code",
   "execution_count": 84,
   "metadata": {},
   "outputs": [],
   "source": [
    "from sklearn.metrics import pairwise_distances_argmin_min\n",
    "closest, _ = pairwise_distances_argmin_min(fit_kmeans.cluster_centers_, images_embeddings)"
   ]
  },
  {
   "cell_type": "code",
   "execution_count": 85,
   "metadata": {},
   "outputs": [
    {
     "data": {
      "text/plain": [
       "['faces-labels/Wedding-1006_9.png',\n",
       " 'faces-labels/Wedding-1038_3.png',\n",
       " 'faces-labels/Wedding-1058_2.png',\n",
       " 'faces-labels/Wedding-1063_7.png',\n",
       " 'faces-labels/Wedding-1065_5.png',\n",
       " 'faces-labels/Wedding-1065_6.png',\n",
       " 'faces-labels/Wedding-1103_2.png',\n",
       " 'faces-labels/Wedding-1105_5.png',\n",
       " 'faces-labels/Wedding-1128_1.png',\n",
       " 'faces-labels/Wedding-1130_0.png',\n",
       " 'faces-labels/Wedding-1132_0.png',\n",
       " 'faces-labels/Wedding-1139_4.png',\n",
       " 'faces-labels/Wedding-1147_0.png',\n",
       " 'faces-labels/Wedding-1147_4.png',\n",
       " 'faces-labels/Wedding-1150_1.png',\n",
       " 'faces-labels/Wedding-1153_7.png',\n",
       " 'faces-labels/Wedding-1160_10.png',\n",
       " 'faces-labels/Wedding-1176_1.png',\n",
       " 'faces-labels/Wedding-1201_10.png',\n",
       " 'faces-labels/Wedding-1335_0.png',\n",
       " 'faces-labels/Wedding-1395_21.png',\n",
       " 'faces-labels/Wedding-1415_4.png',\n",
       " 'faces-labels/Wedding-1488_0.png',\n",
       " 'faces-labels/Wedding-1553_2.png',\n",
       " 'faces-labels/Wedding-1580_2.png',\n",
       " 'faces-labels/Wedding-1588_7.png',\n",
       " 'faces-labels/Wedding-1612_2.png',\n",
       " 'faces-labels/Wedding-1616_3.png',\n",
       " 'faces-labels/Wedding-1616_5.png',\n",
       " 'faces-labels/Wedding-1628_1.png',\n",
       " 'faces-labels/Wedding-1660_0.png',\n",
       " 'faces-labels/Wedding-1673_1.png',\n",
       " 'faces-labels/Wedding-1701_0.png',\n",
       " 'faces-labels/Wedding-1796_1.png',\n",
       " 'faces-labels/Wedding-1797_1.png',\n",
       " 'faces-labels/Wedding-1810_10.png',\n",
       " 'faces-labels/Wedding-1815_5.png',\n",
       " 'faces-labels/Wedding-1818_2.png',\n",
       " 'faces-labels/Wedding-1825_8.png',\n",
       " 'faces-labels/Wedding-1827_9.png',\n",
       " 'faces-labels/Wedding-1833_4.png',\n",
       " 'faces-labels/Wedding-1836_6.png',\n",
       " 'faces-labels/Wedding-1841_2.png',\n",
       " 'faces-labels/Wedding-1846_4.png',\n",
       " 'faces-labels/Wedding-1852_11.png',\n",
       " 'faces-labels/Wedding-1852_12.png',\n",
       " 'faces-labels/Wedding-1852_15.png',\n",
       " 'faces-labels/Wedding-1862_5.png',\n",
       " 'faces-labels/Wedding-1869_2.png',\n",
       " 'faces-labels/Wedding-1875_7.png',\n",
       " 'faces-labels/Wedding-1881_8.png',\n",
       " 'faces-labels/Wedding-1882_6.png',\n",
       " 'faces-labels/Wedding-1889_3.png',\n",
       " 'faces-labels/Wedding-1894_4.png',\n",
       " 'faces-labels/Wedding-1896_7.png',\n",
       " 'faces-labels/Wedding-1923_14.png',\n",
       " 'faces-labels/Wedding-1935_4.png',\n",
       " 'faces-labels/Wedding-1949_5.png',\n",
       " 'faces-labels/Wedding-1960_3.png',\n",
       " 'faces-labels/Wedding-1962_7.png',\n",
       " 'faces-labels/Wedding-1963_10.png',\n",
       " 'faces-labels/Wedding-1966_3.png',\n",
       " 'faces-labels/Wedding-1970_5.png',\n",
       " 'faces-labels/Wedding-1975_7.png',\n",
       " 'faces-labels/Wedding-1976_4.png',\n",
       " 'faces-labels/Wedding-1977_7.png',\n",
       " 'faces-labels/Wedding-1985_1.png',\n",
       " 'faces-labels/Wedding-1989_4.png',\n",
       " 'faces-labels/Wedding-1990_5.png',\n",
       " 'faces-labels/Wedding-1994_6.png',\n",
       " 'faces-labels/Wedding-1997_10.png',\n",
       " 'faces-labels/Wedding-1998_6.png',\n",
       " 'faces-labels/Wedding-2003_9.png',\n",
       " 'faces-labels/Wedding-2011_18.png',\n",
       " 'faces-labels/Wedding-2012_4.png',\n",
       " 'faces-labels/Wedding-2017_3.png',\n",
       " 'faces-labels/Wedding-2018_7.png',\n",
       " 'faces-labels/Wedding-2020_2.png',\n",
       " 'faces-labels/Wedding-2021_10.png',\n",
       " 'faces-labels/Wedding-2022_16.png',\n",
       " 'faces-labels/Wedding-2024_6.png',\n",
       " 'faces-labels/Wedding-2030_11.png',\n",
       " 'faces-labels/Wedding-2033_12.png',\n",
       " 'faces-labels/Wedding-2035_18.png',\n",
       " 'faces-labels/Wedding-2036_16.png',\n",
       " 'faces-labels/Wedding-2037_5.png',\n",
       " 'faces-labels/Wedding-2040_0.png',\n",
       " 'faces-labels/Wedding-2041_8.png',\n",
       " 'faces-labels/Wedding-2043_20.png',\n",
       " 'faces-labels/Wedding-2046_8.png',\n",
       " 'faces-labels/Wedding-2054_6.png',\n",
       " 'faces-labels/Wedding-2056_11.png',\n",
       " 'faces-labels/Wedding-2061_4.png',\n",
       " 'faces-labels/Wedding-2062_4.png',\n",
       " 'faces-labels/Wedding-2067_6.png',\n",
       " 'faces-labels/Wedding-2070_13.png',\n",
       " 'faces-labels/Wedding-2070_14.png',\n",
       " 'faces-labels/Wedding-2088_28.png',\n",
       " 'faces-labels/Wedding-2121_7.png',\n",
       " 'faces-labels/Wedding-2140_6.png',\n",
       " 'faces-labels/Wedding-2141_1.png',\n",
       " 'faces-labels/Wedding-2148_0.png',\n",
       " 'faces-labels/Wedding-2184_8.png',\n",
       " 'faces-labels/Wedding-2186_5.png',\n",
       " 'faces-labels/Wedding-2208_2.png',\n",
       " 'faces-labels/Wedding-2247_3.png',\n",
       " 'faces-labels/Wedding-2255_1.png',\n",
       " 'faces-labels/Wedding-2263_3.png',\n",
       " 'faces-labels/Wedding-2270_1.png',\n",
       " 'faces-labels/Wedding-2313_4.png',\n",
       " 'faces-labels/Wedding-2317_8.png',\n",
       " 'faces-labels/Wedding-2347_4.png',\n",
       " 'faces-labels/Wedding-2348_2.png',\n",
       " 'faces-labels/Wedding-2362_3.png',\n",
       " 'faces-labels/Wedding-2402_4.png',\n",
       " 'faces-labels/Wedding-2404_4.png',\n",
       " 'faces-labels/Wedding-2405_0.png',\n",
       " 'faces-labels/Wedding-241_0.png',\n",
       " 'faces-labels/Wedding-282_2.png',\n",
       " 'faces-labels/Wedding-325_1.png',\n",
       " 'faces-labels/Wedding-345_0.png',\n",
       " 'faces-labels/Wedding-383_1.png',\n",
       " 'faces-labels/Wedding-393_1.png',\n",
       " 'faces-labels/Wedding-428_2.png',\n",
       " 'faces-labels/Wedding-479_3.png',\n",
       " 'faces-labels/Wedding-534_0.png',\n",
       " 'faces-labels/Wedding-571_8.png',\n",
       " 'faces-labels/Wedding-572_0.png',\n",
       " 'faces-labels/Wedding-575_4.png',\n",
       " 'faces-labels/Wedding-575_7.png',\n",
       " 'faces-labels/Wedding-592_6.png',\n",
       " 'faces-labels/Wedding-602_0.png',\n",
       " 'faces-labels/Wedding-635_1.png',\n",
       " 'faces-labels/Wedding-638_2.png',\n",
       " 'faces-labels/Wedding-640_0.png',\n",
       " 'faces-labels/Wedding-706_8.png',\n",
       " 'faces-labels/Wedding-774_4.png',\n",
       " 'faces-labels/Wedding-776_0.png',\n",
       " 'faces-labels/Wedding-785_0.png',\n",
       " 'faces-labels/Wedding-786_2.png',\n",
       " 'faces-labels/Wedding-786_4.png',\n",
       " 'faces-labels/Wedding-828_2.png',\n",
       " 'faces-labels/Wedding-850_0.png',\n",
       " 'faces-labels/Wedding-884_12.png',\n",
       " 'faces-labels/Wedding-888_1.png',\n",
       " 'faces-labels/Wedding-919_0.png',\n",
       " 'faces-labels/Wedding-929_0.png',\n",
       " 'faces-labels/Wedding-930_4.png',\n",
       " 'faces-labels/Wedding-942_2.png',\n",
       " 'faces-labels/Wedding-966_3.png']"
      ]
     },
     "execution_count": 85,
     "metadata": {},
     "output_type": "execute_result"
    }
   ],
   "source": [
    "centers = [labels[im] for im in closest]\n",
    "centers.sort()\n",
    "create_directory('faces-labels')\n",
    "[shutil.copyfile(c, c.replace('faces', 'faces-labels')) for c in centers]\n"
   ]
  },
  {
   "cell_type": "code",
   "execution_count": 4,
   "metadata": {},
   "outputs": [
    {
     "name": "stderr",
     "output_type": "stream",
     "text": [
      "/Users/shirabroner/DataScience/venv/Default/lib/python3.9/site-packages/sklearn/cluster/_kmeans.py:1416: FutureWarning: The default value of `n_init` will change from 10 to 'auto' in 1.4. Set the value of `n_init` explicitly to suppress the warning\n",
      "  super()._check_params_vs_input(X, default_n_init=10)\n"
     ]
    }
   ],
   "source": [
    "\n",
    "# Convert to NumPy array\n",
    "numpy_array = images_embeddings.numpy()\n",
    "\n",
    "# Clustering\n",
    "n_clusters = 122\n",
    "kmeans = KMeans(n_clusters=n_clusters)\n",
    "kmeans.fit(numpy_array)\n",
    "\n",
    "# Get Cluster Labels\n",
    "cluster_labels = kmeans.labels_"
   ]
  },
  {
   "cell_type": "code",
   "execution_count": 11,
   "metadata": {},
   "outputs": [],
   "source": [
    "y = labels\n",
    "labels = {label:[y[i] for i, l in enumerate(kmeans.labels_) if l == label] for label in set(kmeans.labels_)}"
   ]
  },
  {
   "cell_type": "code",
   "execution_count": null,
   "metadata": {},
   "outputs": [],
   "source": []
  },
  {
   "cell_type": "code",
   "execution_count": 6,
   "metadata": {},
   "outputs": [],
   "source": [
    "create_directory('faces-labels')"
   ]
  },
  {
   "cell_type": "code",
   "execution_count": 7,
   "metadata": {},
   "outputs": [],
   "source": [
    "create_directory('faces-labels')\n",
    "for k, v in labels.items():\n",
    "    create_directory(os.path.join('faces-labels', str(k)), delete_if_exists=True)\n",
    "    [shutil.copyfile(f, os.path.join('faces-labels', str(k), f.split('/')[1])) for f in v]"
   ]
  },
  {
   "cell_type": "code",
   "execution_count": 32,
   "metadata": {},
   "outputs": [
    {
     "ename": "RuntimeError",
     "evalue": "a Tensor with 0 elements cannot be converted to Scalar",
     "output_type": "error",
     "traceback": [
      "\u001b[0;31m---------------------------------------------------------------------------\u001b[0m",
      "\u001b[0;31mRuntimeError\u001b[0m                              Traceback (most recent call last)",
      "\u001b[1;32m/Users/shirabroner/DataScience/FaceIt/clustering.ipynb Cell 8\u001b[0m line \u001b[0;36m5\n\u001b[1;32m      <a href='vscode-notebook-cell:/Users/shirabroner/DataScience/FaceIt/clustering.ipynb#X11sZmlsZQ%3D%3D?line=2'>3</a>\u001b[0m \u001b[39mfor\u001b[39;00m label, center \u001b[39min\u001b[39;00m \u001b[39menumerate\u001b[39m(kmeans\u001b[39m.\u001b[39mcluster_centers_):\n\u001b[1;32m      <a href='vscode-notebook-cell:/Users/shirabroner/DataScience/FaceIt/clustering.ipynb#X11sZmlsZQ%3D%3D?line=3'>4</a>\u001b[0m     matches \u001b[39m=\u001b[39m torch\u001b[39m.\u001b[39many(x \u001b[39m==\u001b[39m torch\u001b[39m.\u001b[39mtensor(kmeans\u001b[39m.\u001b[39mcluster_centers_[label]), dim\u001b[39m=\u001b[39m\u001b[39m1\u001b[39m)\n\u001b[0;32m----> <a href='vscode-notebook-cell:/Users/shirabroner/DataScience/FaceIt/clustering.ipynb#X11sZmlsZQ%3D%3D?line=4'>5</a>\u001b[0m     index \u001b[39m=\u001b[39m torch\u001b[39m.\u001b[39;49mwhere(matches)[\u001b[39m0\u001b[39;49m]\u001b[39m.\u001b[39;49mitem()\n\u001b[1;32m      <a href='vscode-notebook-cell:/Users/shirabroner/DataScience/FaceIt/clustering.ipynb#X11sZmlsZQ%3D%3D?line=5'>6</a>\u001b[0m     centers_label_index[label] \u001b[39m=\u001b[39m index\n",
      "\u001b[0;31mRuntimeError\u001b[0m: a Tensor with 0 elements cannot be converted to Scalar"
     ]
    }
   ],
   "source": [
    "x = dataset['x']\n",
    "centers_label_index = {}\n",
    "for label, center in enumerate(kmeans.cluster_centers_):\n",
    "    matches = torch.any(x == torch.tensor(kmeans.cluster_centers_[label]), dim=1)\n",
    "    index = torch.where(matches)[0].item()\n",
    "    centers_label_index[label] = index\n",
    "    \n"
   ]
  },
  {
   "cell_type": "code",
   "execution_count": 31,
   "metadata": {},
   "outputs": [
    {
     "data": {
      "text/plain": [
       "1"
      ]
     },
     "execution_count": 31,
     "metadata": {},
     "output_type": "execute_result"
    }
   ],
   "source": [
    "label"
   ]
  },
  {
   "cell_type": "code",
   "execution_count": null,
   "metadata": {},
   "outputs": [],
   "source": []
  },
  {
   "cell_type": "code",
   "execution_count": 87,
   "metadata": {},
   "outputs": [
    {
     "name": "stderr",
     "output_type": "stream",
     "text": [
      "Processing: 100%|██████████| 148/148 [17:41:27<00:00, 430.32s/it]   \n"
     ]
    },
    {
     "data": {
      "image/png": "[encoded data removed]",
      "text/plain": [
       "<Figure size 640x480 with 1 Axes>"
      ]
     },
     "metadata": {},
     "output_type": "display_data"
    },
    {
     "data": {
      "text/plain": [
       "'\\n\\n'"
      ]
     },
     "execution_count": 87,
     "metadata": {},
     "output_type": "execute_result"
    }
   ],
   "source": [
    "import matplotlib.pyplot as plt\n",
    "from sklearn.cluster import KMeans\n",
    "from sklearn.metrics import silhouette_score\n",
    "import tqdm\n",
    "\n",
    "# Assuming numpy_array is your data converted from the tensor\n",
    "range_n_clusters = range(2, 150)  # Example range (from 2 to 9)\n",
    "numpy_array = images_embeddings.numpy()\n",
    "\n",
    "# Elbow Method\n",
    "wcss = []\n",
    "for n_clusters in tqdm.tqdm(range_n_clusters, desc='Processing', total=len(range_n_clusters)) :\n",
    "    kmeans = KMeans(n_clusters=n_clusters, n_init=10)\n",
    "    kmeans.fit(numpy_array)\n",
    "    wcss.append(kmeans.inertia_)\n",
    "\n",
    "plt.plot(range_n_clusters, wcss)\n",
    "plt.title('Elbow Method')\n",
    "plt.xlabel('Number of clusters')\n",
    "plt.ylabel('WCSS')\n",
    "plt.show()\n",
    "\n",
    "\"\"\"\n",
    "\n",
    "\"\"\"\n"
   ]
  },
  {
   "cell_type": "code",
   "execution_count": 4,
   "metadata": {},
   "outputs": [
    {
     "ename": "KeyboardInterrupt",
     "evalue": "",
     "output_type": "error",
     "traceback": [
      "\u001b[0;31m---------------------------------------------------------------------------\u001b[0m",
      "\u001b[0;31mKeyboardInterrupt\u001b[0m                         Traceback (most recent call last)",
      "File \u001b[0;32m~/DataScience/venv/Default/lib/python3.9/site-packages/numpy/core/multiarray.py:346\u001b[0m, in \u001b[0;36mwhere\u001b[0;34m(condition, x, y)\u001b[0m\n\u001b[1;32m    256\u001b[0m \u001b[39m    \u001b[39m\u001b[39m\"\"\"\u001b[39;00m\n\u001b[1;32m    257\u001b[0m \u001b[39m    inner(a, b, /)\u001b[39;00m\n\u001b[1;32m    258\u001b[0m \n\u001b[0;32m   (...)\u001b[0m\n\u001b[1;32m    341\u001b[0m \n\u001b[1;32m    342\u001b[0m \u001b[39m    \"\"\"\u001b[39;00m\n\u001b[1;32m    343\u001b[0m     \u001b[39mreturn\u001b[39;00m (a, b)\n\u001b[0;32m--> 346\u001b[0m \u001b[39m@array_function_from_c_func_and_dispatcher\u001b[39m(_multiarray_umath\u001b[39m.\u001b[39mwhere)\n\u001b[1;32m    347\u001b[0m \u001b[39mdef\u001b[39;00m \u001b[39mwhere\u001b[39m(condition, x\u001b[39m=\u001b[39m\u001b[39mNone\u001b[39;00m, y\u001b[39m=\u001b[39m\u001b[39mNone\u001b[39;00m):\n\u001b[1;32m    348\u001b[0m \u001b[39m    \u001b[39m\u001b[39m\"\"\"\u001b[39;00m\n\u001b[1;32m    349\u001b[0m \u001b[39m    where(condition, [x, y], /)\u001b[39;00m\n\u001b[1;32m    350\u001b[0m \n\u001b[0;32m   (...)\u001b[0m\n\u001b[1;32m    416\u001b[0m \u001b[39m           [ 0,  3, -1]])\u001b[39;00m\n\u001b[1;32m    417\u001b[0m \u001b[39m    \"\"\"\u001b[39;00m\n\u001b[1;32m    418\u001b[0m     \u001b[39mreturn\u001b[39;00m (condition, x, y)\n",
      "\u001b[0;31mKeyboardInterrupt\u001b[0m: "
     ]
    },
    {
     "name": "stderr",
     "output_type": "stream",
     "text": [
      "Exception ignored in: 'sklearn.cluster._k_means_common._relocate_empty_clusters_dense'\n",
      "Traceback (most recent call last):\n",
      "  File \"/Users/shirabroner/DataScience/venv/Default/lib/python3.9/site-packages/numpy/core/multiarray.py\", line 346, in where\n",
      "    @array_function_from_c_func_and_dispatcher(_multiarray_umath.where)\n",
      "KeyboardInterrupt: \n"
     ]
    }
   ],
   "source": [
    "# Silhouette Score\n",
    "silhouette_avg = []\n",
    "for n_clusters in range_n_clusters:\n",
    "    kmeans = KMeans(n_clusters=n_clusters, n_init=10)\n",
    "    cluster_labels = kmeans.fit_predict(numpy_array)\n",
    "    silhouette_avg.append(silhouette_score(numpy_array, cluster_labels))\n",
    "\n",
    "plt.plot(range_n_clusters, silhouette_avg)\n",
    "plt.title('Silhouette Score')\n",
    "plt.xlabel('Number of clusters')\n",
    "plt.ylabel('Average Silhouette Score')\n",
    "plt.show()"
   ]
  }
 ],
 "metadata": {
  "kernelspec": {
   "display_name": "Default",
   "language": "python",
   "name": "python3"
  },
  "language_info": {
   "codemirror_mode": {
    "name": "ipython",
    "version": 3
   },
   "file_extension": ".py",
   "mimetype": "text/x-python",
   "name": "python",
   "nbconvert_exporter": "python",
   "pygments_lexer": "ipython3",
   "version": "3.9.6"
  }
 },
 "nbformat": 4,
 "nbformat_minor": 2
}
