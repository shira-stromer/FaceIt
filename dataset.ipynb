{
 "cells": [
  {
   "cell_type": "code",
   "execution_count": 2,
   "metadata": {},
   "outputs": [
    {
     "name": "stderr",
     "output_type": "stream",
     "text": [
      "/Users/shirabroner/DataScience/venv/Default/lib/python3.9/site-packages/urllib3/__init__.py:34: NotOpenSSLWarning: urllib3 v2 only supports OpenSSL 1.1.1+, currently the 'ssl' module is compiled with 'LibreSSL 2.8.3'. See: https://github.com/urllib3/urllib3/issues/3020\n",
      "  warnings.warn(\n"
     ]
    },
    {
     "data": {
      "text/plain": [
       "<module 'tqdm' from '/Users/shirabroner/DataScience/venv/Default/lib/python3.9/site-packages/tqdm/__init__.py'>"
      ]
     },
     "execution_count": 2,
     "metadata": {},
     "output_type": "execute_result"
    }
   ],
   "source": [
    "import importlib\n",
    "import utilities\n",
    "importlib.reload(utilities)\n",
    "from utilities import get_files_from_dir, chunk_list\n",
    "from facenet_pytorch import InceptionResnetV1\n",
    "from PIL import Image\n",
    "import torch\n",
    "from torchvision import transforms\n",
    "import tqdm\n",
    "importlib.reload(tqdm)"
   ]
  },
  {
   "cell_type": "code",
   "execution_count": 3,
   "metadata": {},
   "outputs": [],
   "source": [
    "faces_dir = 'faces/*'\n",
    "faces_files = get_files_from_dir(faces_dir)"
   ]
  },
  {
   "cell_type": "code",
   "execution_count": 4,
   "metadata": {},
   "outputs": [],
   "source": [
    "device = 'mps'"
   ]
  },
  {
   "cell_type": "code",
   "execution_count": 5,
   "metadata": {},
   "outputs": [],
   "source": [
    "resnet = InceptionResnetV1(pretrained='vggface2', device=device).eval()"
   ]
  },
  {
   "cell_type": "code",
   "execution_count": 6,
   "metadata": {},
   "outputs": [],
   "source": [
    "transform = transforms.Compose([\n",
    "    transforms.ToTensor(),  # Converts the image to a tensor\n",
    "    #transforms.Resize((256, 256))\n",
    "    # Add other transformations if necessary\n",
    "    # e.g., transforms.Resize((256, 256)),\n",
    "    # transforms.Normalize(mean=[0.485, 0.456, 0.406], std=[0.229, 0.224, 0.225]),\n",
    "])"
   ]
  },
  {
   "cell_type": "code",
   "execution_count": 7,
   "metadata": {},
   "outputs": [
    {
     "name": "stderr",
     "output_type": "stream",
     "text": [
      "Processing: 100%|██████████| 11806/11806 [06:56<00:00, 28.31it/s]\n"
     ]
    }
   ],
   "source": [
    "with torch.no_grad():\n",
    "    x = []\n",
    "    y = []\n",
    "    for i, face_file in tqdm.tqdm(enumerate(faces_files), desc='Processing', total=len(faces_files)):\n",
    "        y.append(face_file)\n",
    "        x.append(resnet(transform(Image.open(face_file)).to(device).unsqueeze(0)).cpu())\n",
    "\n",
    "torch.save({'x': torch.concat(x), 'y':y}, 'face_embedding.pt')"
   ]
  },
  {
   "cell_type": "code",
   "execution_count": 9,
   "metadata": {},
   "outputs": [],
   "source": [
    "dataset = torch.load('face_embedding.pt')"
   ]
  },
  {
   "cell_type": "code",
   "execution_count": 10,
   "metadata": {},
   "outputs": [
    {
     "data": {
      "text/plain": [
       "tensor([[-0.0126,  0.0387, -0.0037,  ..., -0.0064,  0.0009,  0.0218],\n",
       "        [-0.0710,  0.0005, -0.0321,  ...,  0.0048,  0.0079,  0.0107],\n",
       "        [-0.0219,  0.1007, -0.0235,  ...,  0.0121,  0.1069,  0.0359],\n",
       "        ...,\n",
       "        [-0.0061,  0.0281,  0.0526,  ..., -0.0446, -0.0025,  0.0056],\n",
       "        [ 0.0155,  0.0158,  0.0326,  ...,  0.0013, -0.0165, -0.0247],\n",
       "        [-0.0654,  0.0481, -0.0925,  ..., -0.0097,  0.1020, -0.0009]])"
      ]
     },
     "execution_count": 10,
     "metadata": {},
     "output_type": "execute_result"
    }
   ],
   "source": [
    "dataset['x'].numpy()"
   ]
  }
 ],
 "metadata": {
  "kernelspec": {
   "display_name": "Default",
   "language": "python",
   "name": "python3"
  },
  "language_info": {
   "codemirror_mode": {
    "name": "ipython",
    "version": 3
   },
   "file_extension": ".py",
   "mimetype": "text/x-python",
   "name": "python",
   "nbconvert_exporter": "python",
   "pygments_lexer": "ipython3",
   "version": "3.9.6"
  }
 },
 "nbformat": 4,
 "nbformat_minor": 2
}
